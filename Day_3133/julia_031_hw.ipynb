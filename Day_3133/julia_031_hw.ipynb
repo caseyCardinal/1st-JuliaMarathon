{
 "cells": [
  {
   "cell_type": "markdown",
   "metadata": {},
   "source": [
    "# Julia 深度學習：可微分程式設計\n",
    "\n",
    "## 作業 031：對神經網路層微分\n",
    "\n",
    "請自行撰寫一個型別，型別代表神經網路的一層運算，並且對它微分。神經網路層的一般式如下：\n",
    "\n",
    "$$\n",
    "y = \\sigma (Wx + b)\n",
    "$$\n",
    "\n",
    "其中 `W` 為參數矩陣，`b` 為參數向量，`x` 為輸入向量，`y` 為輸出向量。要取得向量的微分值，需要將向量縮減為純量，如下：\n",
    "\n",
    "```\n",
    "gradient(x -> sum(y), 1)\n",
    "```"
   ]
  },
  {
   "cell_type": "code",
   "execution_count": 1,
   "metadata": {},
   "outputs": [],
   "source": [
    "using Zygote"
   ]
  },
  {
   "cell_type": "code",
   "execution_count": 1,
   "metadata": {},
   "outputs": [],
   "source": [
    "using DifferentialEquations"
   ]
  },
  {
   "cell_type": "code",
   "execution_count": 5,
   "metadata": {},
   "outputs": [
    {
     "data": {
      "text/plain": [
       "(0.0, 1.0)"
      ]
     },
     "execution_count": 5,
     "metadata": {},
     "output_type": "execute_result"
    }
   ],
   "source": [
    "A=rand(4, 4) \n",
    "x0=rand(4, 1)\n",
    "b=rand(4, 1)\n",
    "tspan=(0.0, 1.0)"
   ]
  },
  {
   "cell_type": "code",
   "execution_count": 6,
   "metadata": {},
   "outputs": [
    {
     "data": {
      "text/plain": [
       "f (generic function with 1 method)"
      ]
     },
     "execution_count": 6,
     "metadata": {},
     "output_type": "execute_result"
    }
   ],
   "source": [
    "f(x, p, t)=identity(A*x+b)"
   ]
  },
  {
   "cell_type": "code",
   "execution_count": 7,
   "metadata": {},
   "outputs": [
    {
     "data": {
      "text/plain": [
       "retcode: Success\n",
       "Interpolation: Automatic order switching interpolation\n",
       "t: 8-element Array{Float64,1}:\n",
       " 0.0                 \n",
       " 0.060297445903218866\n",
       " 0.17110533539215672 \n",
       " 0.3116421187201943  \n",
       " 0.4876209621976522  \n",
       " 0.696714116641856   \n",
       " 0.9391785128236335  \n",
       " 1.0                 \n",
       "u: 8-element Array{Array{Float64,2},1}:\n",
       " [0.2220763139198909; 0.4502317350098539; 0.8668488155473963; 0.8042617719685781] \n",
       " [0.37840287613156043; 0.5949785952716108; 1.0357772273368524; 0.9125752111751936]\n",
       " [0.7149937040473013; 0.929502598357409; 1.4102407359252227; 1.1570082702035278]  \n",
       " [1.258725636603984; 1.514434283691355; 2.0377652564349074; 1.5743302171565325]   \n",
       " [2.1955710836601106; 2.594925982190728; 3.159666000655828; 2.3313012391411987]   \n",
       " [3.8633682032239998; 4.62532939853665; 5.223710278888908; 3.7368493927214717]    \n",
       " [7.019512776926639; 8.611849436832946; 9.231543216093868; 6.478174828542708]     \n",
       " [8.111601828881412; 10.011342409621255; 10.634001344155362; 7.438439941676099]   "
      ]
     },
     "execution_count": 7,
     "metadata": {},
     "output_type": "execute_result"
    }
   ],
   "source": [
    "prob=ODEProblem(f, x0, tspan)\n",
    "sol=solve(prob)"
   ]
  },
  {
   "cell_type": "code",
   "execution_count": null,
   "metadata": {},
   "outputs": [],
   "source": []
  }
 ],
 "metadata": {
  "kernelspec": {
   "display_name": "Julia 1.3.1",
   "language": "julia",
   "name": "julia-1.3"
  },
  "language_info": {
   "file_extension": ".jl",
   "mimetype": "application/julia",
   "name": "julia",
   "version": "1.3.1"
  }
 },
 "nbformat": 4,
 "nbformat_minor": 4
}
