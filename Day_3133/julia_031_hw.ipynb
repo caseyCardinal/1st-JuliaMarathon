{
 "cells": [
  {
   "cell_type": "markdown",
   "metadata": {},
   "source": [
    "# Julia 深度學習：可微分程式設計\n",
    "\n",
    "## 作業 031：對神經網路層微分\n",
    "\n",
    "請自行撰寫一個型別，型別代表神經網路的一層運算，並且對它微分。神經網路層的一般式如下：\n",
    "\n",
    "$$\n",
    "y = \\sigma (Wx + b)\n",
    "$$\n",
    "\n",
    "其中 `W` 為參數矩陣，`b` 為參數向量，`x` 為輸入向量，`y` 為輸出向量。要取得向量的微分值，需要將向量縮減為純量，如下：\n",
    "\n",
    "```\n",
    "gradient(x -> sum(y), 1)\n",
    "```"
   ]
  },
  {
   "cell_type": "code",
   "execution_count": 1,
   "metadata": {},
   "outputs": [],
   "source": [
    "using Zygote"
   ]
  },
  {
   "cell_type": "code",
   "execution_count": 1,
   "metadata": {},
   "outputs": [],
   "source": [
    "using DifferentialEquations"
   ]
  },
  {
   "cell_type": "code",
   "execution_count": 2,
   "metadata": {},
   "outputs": [
    {
     "data": {
      "text/plain": [
       "(0.0, 1.0)"
      ]
     },
     "execution_count": 2,
     "metadata": {},
     "output_type": "execute_result"
    }
   ],
   "source": [
    "A=[1.0 0 0 -5\n",
    "   3 -7 4 -3\n",
    "   -1 5 0  2\n",
    "   9 -2 8  3]\n",
    "x0=rand(4, 1)\n",
    "b=zeros(4)\n",
    "tspan=(0.0, 1.0)"
   ]
  },
  {
   "cell_type": "code",
   "execution_count": 3,
   "metadata": {},
   "outputs": [
    {
     "data": {
      "text/plain": [
       "f (generic function with 1 method)"
      ]
     },
     "execution_count": 3,
     "metadata": {},
     "output_type": "execute_result"
    }
   ],
   "source": [
    "f(x, p, t)=A*x+b"
   ]
  },
  {
   "cell_type": "code",
   "execution_count": 4,
   "metadata": {},
   "outputs": [
    {
     "data": {
      "text/plain": [
       "retcode: Success\n",
       "Interpolation: Automatic order switching interpolation\n",
       "t: 13-element Array{Float64,1}:\n",
       " 0.0                \n",
       " 0.03660902386727231\n",
       " 0.07410390361417878\n",
       " 0.12669323189799336\n",
       " 0.18572924429957388\n",
       " 0.255164377885416  \n",
       " 0.33446277945658737\n",
       " 0.4352291501008443 \n",
       " 0.545135479956179  \n",
       " 0.6571320729576069 \n",
       " 0.7707012104287069 \n",
       " 0.8890978739659772 \n",
       " 1.0                \n",
       "u: 13-element Array{Array{Float64,2},1}:\n",
       " [0.35915617406202216; 0.7609481131436058; 0.10319932040803592; 0.16745165021584363]\n",
       " [0.3292932340558872; 0.62188312050139; 0.23354477130274884; 0.30637573514362143]   \n",
       " [0.2657665742212257; 0.5074539810134893; 0.35774232709390996; 0.49931868773312404] \n",
       " [0.10174040744675464; 0.3661920629757577; 0.5319526319325256; 0.8356393603013077]  \n",
       " [-0.2100882257920542; 0.2047366615747856; 0.7428075817212787; 1.2652260404647817]  \n",
       " [-0.7699624137552932; -0.01368519770872395; 1.0206708381037015; 1.7608751901549948]\n",
       " [-1.651363665784027; -0.3042874760302677; 1.3680288277708046; 2.1641832621574615]  \n",
       " [-2.996020552684866; -0.6808637843442238; 1.7957058110593547; 2.111813459333967]   \n",
       " [-4.295485610202078; -0.9290585408024973; 2.1030172563691707; 0.9150158854663875]  \n",
       " [-4.648169016917307; -0.7348859739304993; 2.0589710543151196; -1.7148614461217384] \n",
       " [-3.131244707354754; 0.17383482765886338; 1.5332434596285434; -5.321828374628601]  \n",
       " [0.8755427508059705; 1.902088818986433; 0.6060399840213835; -8.434039906779798]    \n",
       " [6.1086030518374805; 3.820244049907597; -0.12583581270724886; -8.366292396837368]  "
      ]
     },
     "execution_count": 4,
     "metadata": {},
     "output_type": "execute_result"
    }
   ],
   "source": [
    "prob=ODEProblem(f, x0, tspan)\n",
    "sol=solve(prob)"
   ]
  },
  {
   "cell_type": "code",
   "execution_count": null,
   "metadata": {},
   "outputs": [],
   "source": []
  }
 ],
 "metadata": {
  "kernelspec": {
   "display_name": "Julia 1.3.1",
   "language": "julia",
   "name": "julia-1.3"
  },
  "language_info": {
   "file_extension": ".jl",
   "mimetype": "application/julia",
   "name": "julia",
   "version": "1.3.1"
  }
 },
 "nbformat": 4,
 "nbformat_minor": 4
}
