{
 "cells": [
  {
   "cell_type": "markdown",
   "metadata": {},
   "source": [
    "# Julia 機器學習：DecisionTree 決策樹\n",
    "\n",
    "## 作業 030：乳癌預測資料集\n",
    "\n",
    "請使用隨機森林模型建立一個分類模型，來預測乳癌資料集中，為良性或是惡性的腫瘤。"
   ]
  },
  {
   "cell_type": "code",
   "execution_count": 2,
   "metadata": {},
   "outputs": [],
   "source": [
    "using DecisionTree, RDatasets, DataFrames, MLDataUtils, Statistics"
   ]
  },
  {
   "cell_type": "markdown",
   "metadata": {},
   "source": [
    "## 讀取資料"
   ]
  },
  {
   "cell_type": "code",
   "execution_count": 3,
   "metadata": {},
   "outputs": [
    {
     "data": {
      "text/html": [
       "<table class=\"data-frame\"><thead><tr><th></th><th>ID</th><th>V1</th><th>V2</th><th>V3</th><th>V4</th><th>V5</th><th>V6</th><th>V7</th><th>V8</th><th>V9</th><th>Class</th></tr><tr><th></th><th>String</th><th>Int32</th><th>Int32</th><th>Int32</th><th>Int32</th><th>Int32</th><th>Int32⍰</th><th>Int32</th><th>Int32</th><th>Int32</th><th>Categorical…</th></tr></thead><tbody><p>699 rows × 11 columns</p><tr><th>1</th><td>1000025</td><td>5</td><td>1</td><td>1</td><td>1</td><td>2</td><td>1</td><td>3</td><td>1</td><td>1</td><td>benign</td></tr><tr><th>2</th><td>1002945</td><td>5</td><td>4</td><td>4</td><td>5</td><td>7</td><td>10</td><td>3</td><td>2</td><td>1</td><td>benign</td></tr><tr><th>3</th><td>1015425</td><td>3</td><td>1</td><td>1</td><td>1</td><td>2</td><td>2</td><td>3</td><td>1</td><td>1</td><td>benign</td></tr><tr><th>4</th><td>1016277</td><td>6</td><td>8</td><td>8</td><td>1</td><td>3</td><td>4</td><td>3</td><td>7</td><td>1</td><td>benign</td></tr><tr><th>5</th><td>1017023</td><td>4</td><td>1</td><td>1</td><td>3</td><td>2</td><td>1</td><td>3</td><td>1</td><td>1</td><td>benign</td></tr><tr><th>6</th><td>1017122</td><td>8</td><td>10</td><td>10</td><td>8</td><td>7</td><td>10</td><td>9</td><td>7</td><td>1</td><td>malignant</td></tr><tr><th>7</th><td>1018099</td><td>1</td><td>1</td><td>1</td><td>1</td><td>2</td><td>10</td><td>3</td><td>1</td><td>1</td><td>benign</td></tr><tr><th>8</th><td>1018561</td><td>2</td><td>1</td><td>2</td><td>1</td><td>2</td><td>1</td><td>3</td><td>1</td><td>1</td><td>benign</td></tr><tr><th>9</th><td>1033078</td><td>2</td><td>1</td><td>1</td><td>1</td><td>2</td><td>1</td><td>1</td><td>1</td><td>5</td><td>benign</td></tr><tr><th>10</th><td>1033078</td><td>4</td><td>2</td><td>1</td><td>1</td><td>2</td><td>1</td><td>2</td><td>1</td><td>1</td><td>benign</td></tr><tr><th>11</th><td>1035283</td><td>1</td><td>1</td><td>1</td><td>1</td><td>1</td><td>1</td><td>3</td><td>1</td><td>1</td><td>benign</td></tr><tr><th>12</th><td>1036172</td><td>2</td><td>1</td><td>1</td><td>1</td><td>2</td><td>1</td><td>2</td><td>1</td><td>1</td><td>benign</td></tr><tr><th>13</th><td>1041801</td><td>5</td><td>3</td><td>3</td><td>3</td><td>2</td><td>3</td><td>4</td><td>4</td><td>1</td><td>malignant</td></tr><tr><th>14</th><td>1043999</td><td>1</td><td>1</td><td>1</td><td>1</td><td>2</td><td>3</td><td>3</td><td>1</td><td>1</td><td>benign</td></tr><tr><th>15</th><td>1044572</td><td>8</td><td>7</td><td>5</td><td>10</td><td>7</td><td>9</td><td>5</td><td>5</td><td>4</td><td>malignant</td></tr><tr><th>16</th><td>1047630</td><td>7</td><td>4</td><td>6</td><td>4</td><td>6</td><td>1</td><td>4</td><td>3</td><td>1</td><td>malignant</td></tr><tr><th>17</th><td>1048672</td><td>4</td><td>1</td><td>1</td><td>1</td><td>2</td><td>1</td><td>2</td><td>1</td><td>1</td><td>benign</td></tr><tr><th>18</th><td>1049815</td><td>4</td><td>1</td><td>1</td><td>1</td><td>2</td><td>1</td><td>3</td><td>1</td><td>1</td><td>benign</td></tr><tr><th>19</th><td>1050670</td><td>10</td><td>7</td><td>7</td><td>6</td><td>4</td><td>10</td><td>4</td><td>1</td><td>2</td><td>malignant</td></tr><tr><th>20</th><td>1050718</td><td>6</td><td>1</td><td>1</td><td>1</td><td>2</td><td>1</td><td>3</td><td>1</td><td>1</td><td>benign</td></tr><tr><th>21</th><td>1054590</td><td>7</td><td>3</td><td>2</td><td>10</td><td>5</td><td>10</td><td>5</td><td>4</td><td>4</td><td>malignant</td></tr><tr><th>22</th><td>1054593</td><td>10</td><td>5</td><td>5</td><td>3</td><td>6</td><td>7</td><td>7</td><td>10</td><td>1</td><td>malignant</td></tr><tr><th>23</th><td>1056784</td><td>3</td><td>1</td><td>1</td><td>1</td><td>2</td><td>1</td><td>2</td><td>1</td><td>1</td><td>benign</td></tr><tr><th>24</th><td>1057013</td><td>8</td><td>4</td><td>5</td><td>1</td><td>2</td><td>missing</td><td>7</td><td>3</td><td>1</td><td>malignant</td></tr><tr><th>25</th><td>1059552</td><td>1</td><td>1</td><td>1</td><td>1</td><td>2</td><td>1</td><td>3</td><td>1</td><td>1</td><td>benign</td></tr><tr><th>26</th><td>1065726</td><td>5</td><td>2</td><td>3</td><td>4</td><td>2</td><td>7</td><td>3</td><td>6</td><td>1</td><td>malignant</td></tr><tr><th>27</th><td>1066373</td><td>3</td><td>2</td><td>1</td><td>1</td><td>1</td><td>1</td><td>2</td><td>1</td><td>1</td><td>benign</td></tr><tr><th>28</th><td>1066979</td><td>5</td><td>1</td><td>1</td><td>1</td><td>2</td><td>1</td><td>2</td><td>1</td><td>1</td><td>benign</td></tr><tr><th>29</th><td>1067444</td><td>2</td><td>1</td><td>1</td><td>1</td><td>2</td><td>1</td><td>2</td><td>1</td><td>1</td><td>benign</td></tr><tr><th>30</th><td>1070935</td><td>1</td><td>1</td><td>3</td><td>1</td><td>2</td><td>1</td><td>1</td><td>1</td><td>1</td><td>benign</td></tr><tr><th>&vellip;</th><td>&vellip;</td><td>&vellip;</td><td>&vellip;</td><td>&vellip;</td><td>&vellip;</td><td>&vellip;</td><td>&vellip;</td><td>&vellip;</td><td>&vellip;</td><td>&vellip;</td><td>&vellip;</td></tr></tbody></table>"
      ],
      "text/latex": [
       "\\begin{tabular}{r|ccccccccccc}\n",
       "\t& ID & V1 & V2 & V3 & V4 & V5 & V6 & V7 & V8 & V9 & Class\\\\\n",
       "\t\\hline\n",
       "\t& String & Int32 & Int32 & Int32 & Int32 & Int32 & Int32⍰ & Int32 & Int32 & Int32 & Categorical…\\\\\n",
       "\t\\hline\n",
       "\t1 & 1000025 & 5 & 1 & 1 & 1 & 2 & 1 & 3 & 1 & 1 & benign \\\\\n",
       "\t2 & 1002945 & 5 & 4 & 4 & 5 & 7 & 10 & 3 & 2 & 1 & benign \\\\\n",
       "\t3 & 1015425 & 3 & 1 & 1 & 1 & 2 & 2 & 3 & 1 & 1 & benign \\\\\n",
       "\t4 & 1016277 & 6 & 8 & 8 & 1 & 3 & 4 & 3 & 7 & 1 & benign \\\\\n",
       "\t5 & 1017023 & 4 & 1 & 1 & 3 & 2 & 1 & 3 & 1 & 1 & benign \\\\\n",
       "\t6 & 1017122 & 8 & 10 & 10 & 8 & 7 & 10 & 9 & 7 & 1 & malignant \\\\\n",
       "\t7 & 1018099 & 1 & 1 & 1 & 1 & 2 & 10 & 3 & 1 & 1 & benign \\\\\n",
       "\t8 & 1018561 & 2 & 1 & 2 & 1 & 2 & 1 & 3 & 1 & 1 & benign \\\\\n",
       "\t9 & 1033078 & 2 & 1 & 1 & 1 & 2 & 1 & 1 & 1 & 5 & benign \\\\\n",
       "\t10 & 1033078 & 4 & 2 & 1 & 1 & 2 & 1 & 2 & 1 & 1 & benign \\\\\n",
       "\t11 & 1035283 & 1 & 1 & 1 & 1 & 1 & 1 & 3 & 1 & 1 & benign \\\\\n",
       "\t12 & 1036172 & 2 & 1 & 1 & 1 & 2 & 1 & 2 & 1 & 1 & benign \\\\\n",
       "\t13 & 1041801 & 5 & 3 & 3 & 3 & 2 & 3 & 4 & 4 & 1 & malignant \\\\\n",
       "\t14 & 1043999 & 1 & 1 & 1 & 1 & 2 & 3 & 3 & 1 & 1 & benign \\\\\n",
       "\t15 & 1044572 & 8 & 7 & 5 & 10 & 7 & 9 & 5 & 5 & 4 & malignant \\\\\n",
       "\t16 & 1047630 & 7 & 4 & 6 & 4 & 6 & 1 & 4 & 3 & 1 & malignant \\\\\n",
       "\t17 & 1048672 & 4 & 1 & 1 & 1 & 2 & 1 & 2 & 1 & 1 & benign \\\\\n",
       "\t18 & 1049815 & 4 & 1 & 1 & 1 & 2 & 1 & 3 & 1 & 1 & benign \\\\\n",
       "\t19 & 1050670 & 10 & 7 & 7 & 6 & 4 & 10 & 4 & 1 & 2 & malignant \\\\\n",
       "\t20 & 1050718 & 6 & 1 & 1 & 1 & 2 & 1 & 3 & 1 & 1 & benign \\\\\n",
       "\t21 & 1054590 & 7 & 3 & 2 & 10 & 5 & 10 & 5 & 4 & 4 & malignant \\\\\n",
       "\t22 & 1054593 & 10 & 5 & 5 & 3 & 6 & 7 & 7 & 10 & 1 & malignant \\\\\n",
       "\t23 & 1056784 & 3 & 1 & 1 & 1 & 2 & 1 & 2 & 1 & 1 & benign \\\\\n",
       "\t24 & 1057013 & 8 & 4 & 5 & 1 & 2 &  & 7 & 3 & 1 & malignant \\\\\n",
       "\t25 & 1059552 & 1 & 1 & 1 & 1 & 2 & 1 & 3 & 1 & 1 & benign \\\\\n",
       "\t26 & 1065726 & 5 & 2 & 3 & 4 & 2 & 7 & 3 & 6 & 1 & malignant \\\\\n",
       "\t27 & 1066373 & 3 & 2 & 1 & 1 & 1 & 1 & 2 & 1 & 1 & benign \\\\\n",
       "\t28 & 1066979 & 5 & 1 & 1 & 1 & 2 & 1 & 2 & 1 & 1 & benign \\\\\n",
       "\t29 & 1067444 & 2 & 1 & 1 & 1 & 2 & 1 & 2 & 1 & 1 & benign \\\\\n",
       "\t30 & 1070935 & 1 & 1 & 3 & 1 & 2 & 1 & 1 & 1 & 1 & benign \\\\\n",
       "\t$\\dots$ & $\\dots$ & $\\dots$ & $\\dots$ & $\\dots$ & $\\dots$ & $\\dots$ & $\\dots$ & $\\dots$ & $\\dots$ & $\\dots$ & $\\dots$ \\\\\n",
       "\\end{tabular}\n"
      ],
      "text/plain": [
       "699×11 DataFrame. Omitted printing of 3 columns\n",
       "│ Row │ ID      │ V1    │ V2    │ V3    │ V4    │ V5    │ V6     │ V7    │\n",
       "│     │ \u001b[90mString\u001b[39m  │ \u001b[90mInt32\u001b[39m │ \u001b[90mInt32\u001b[39m │ \u001b[90mInt32\u001b[39m │ \u001b[90mInt32\u001b[39m │ \u001b[90mInt32\u001b[39m │ \u001b[90mInt32⍰\u001b[39m │ \u001b[90mInt32\u001b[39m │\n",
       "├─────┼─────────┼───────┼───────┼───────┼───────┼───────┼────────┼───────┤\n",
       "│ 1   │ 1000025 │ 5     │ 1     │ 1     │ 1     │ 2     │ 1      │ 3     │\n",
       "│ 2   │ 1002945 │ 5     │ 4     │ 4     │ 5     │ 7     │ 10     │ 3     │\n",
       "│ 3   │ 1015425 │ 3     │ 1     │ 1     │ 1     │ 2     │ 2      │ 3     │\n",
       "│ 4   │ 1016277 │ 6     │ 8     │ 8     │ 1     │ 3     │ 4      │ 3     │\n",
       "│ 5   │ 1017023 │ 4     │ 1     │ 1     │ 3     │ 2     │ 1      │ 3     │\n",
       "│ 6   │ 1017122 │ 8     │ 10    │ 10    │ 8     │ 7     │ 10     │ 9     │\n",
       "│ 7   │ 1018099 │ 1     │ 1     │ 1     │ 1     │ 2     │ 10     │ 3     │\n",
       "│ 8   │ 1018561 │ 2     │ 1     │ 2     │ 1     │ 2     │ 1      │ 3     │\n",
       "│ 9   │ 1033078 │ 2     │ 1     │ 1     │ 1     │ 2     │ 1      │ 1     │\n",
       "│ 10  │ 1033078 │ 4     │ 2     │ 1     │ 1     │ 2     │ 1      │ 2     │\n",
       "⋮\n",
       "│ 689 │ 603148  │ 4     │ 1     │ 1     │ 1     │ 2     │ 1      │ 1     │\n",
       "│ 690 │ 654546  │ 1     │ 1     │ 1     │ 1     │ 2     │ 1      │ 1     │\n",
       "│ 691 │ 654546  │ 1     │ 1     │ 1     │ 3     │ 2     │ 1      │ 1     │\n",
       "│ 692 │ 695091  │ 5     │ 10    │ 10    │ 5     │ 4     │ 5      │ 4     │\n",
       "│ 693 │ 714039  │ 3     │ 1     │ 1     │ 1     │ 2     │ 1      │ 1     │\n",
       "│ 694 │ 763235  │ 3     │ 1     │ 1     │ 1     │ 2     │ 1      │ 2     │\n",
       "│ 695 │ 776715  │ 3     │ 1     │ 1     │ 1     │ 3     │ 2      │ 1     │\n",
       "│ 696 │ 841769  │ 2     │ 1     │ 1     │ 1     │ 2     │ 1      │ 1     │\n",
       "│ 697 │ 888820  │ 5     │ 10    │ 10    │ 3     │ 7     │ 3      │ 8     │\n",
       "│ 698 │ 897471  │ 4     │ 8     │ 6     │ 4     │ 3     │ 4      │ 10    │\n",
       "│ 699 │ 897471  │ 4     │ 8     │ 8     │ 5     │ 4     │ 5      │ 10    │"
      ]
     },
     "execution_count": 3,
     "metadata": {},
     "output_type": "execute_result"
    }
   ],
   "source": [
    "biopsy = dataset(\"MASS\", \"biopsy\")"
   ]
  },
  {
   "cell_type": "code",
   "execution_count": 53,
   "metadata": {},
   "outputs": [
    {
     "data": {
      "text/html": [
       "<table class=\"data-frame\"><thead><tr><th></th><th>V1</th><th>V2</th><th>V3</th><th>V4</th><th>V5</th></tr><tr><th></th><th>Int32</th><th>Int32</th><th>Int32</th><th>Int32</th><th>Int32</th></tr></thead><tbody><p>699 rows × 5 columns</p><tr><th>1</th><td>5</td><td>1</td><td>1</td><td>1</td><td>2</td></tr><tr><th>2</th><td>5</td><td>4</td><td>4</td><td>5</td><td>7</td></tr><tr><th>3</th><td>3</td><td>1</td><td>1</td><td>1</td><td>2</td></tr><tr><th>4</th><td>6</td><td>8</td><td>8</td><td>1</td><td>3</td></tr><tr><th>5</th><td>4</td><td>1</td><td>1</td><td>3</td><td>2</td></tr><tr><th>6</th><td>8</td><td>10</td><td>10</td><td>8</td><td>7</td></tr><tr><th>7</th><td>1</td><td>1</td><td>1</td><td>1</td><td>2</td></tr><tr><th>8</th><td>2</td><td>1</td><td>2</td><td>1</td><td>2</td></tr><tr><th>9</th><td>2</td><td>1</td><td>1</td><td>1</td><td>2</td></tr><tr><th>10</th><td>4</td><td>2</td><td>1</td><td>1</td><td>2</td></tr><tr><th>11</th><td>1</td><td>1</td><td>1</td><td>1</td><td>1</td></tr><tr><th>12</th><td>2</td><td>1</td><td>1</td><td>1</td><td>2</td></tr><tr><th>13</th><td>5</td><td>3</td><td>3</td><td>3</td><td>2</td></tr><tr><th>14</th><td>1</td><td>1</td><td>1</td><td>1</td><td>2</td></tr><tr><th>15</th><td>8</td><td>7</td><td>5</td><td>10</td><td>7</td></tr><tr><th>16</th><td>7</td><td>4</td><td>6</td><td>4</td><td>6</td></tr><tr><th>17</th><td>4</td><td>1</td><td>1</td><td>1</td><td>2</td></tr><tr><th>18</th><td>4</td><td>1</td><td>1</td><td>1</td><td>2</td></tr><tr><th>19</th><td>10</td><td>7</td><td>7</td><td>6</td><td>4</td></tr><tr><th>20</th><td>6</td><td>1</td><td>1</td><td>1</td><td>2</td></tr><tr><th>21</th><td>7</td><td>3</td><td>2</td><td>10</td><td>5</td></tr><tr><th>22</th><td>10</td><td>5</td><td>5</td><td>3</td><td>6</td></tr><tr><th>23</th><td>3</td><td>1</td><td>1</td><td>1</td><td>2</td></tr><tr><th>24</th><td>8</td><td>4</td><td>5</td><td>1</td><td>2</td></tr><tr><th>25</th><td>1</td><td>1</td><td>1</td><td>1</td><td>2</td></tr><tr><th>26</th><td>5</td><td>2</td><td>3</td><td>4</td><td>2</td></tr><tr><th>27</th><td>3</td><td>2</td><td>1</td><td>1</td><td>1</td></tr><tr><th>28</th><td>5</td><td>1</td><td>1</td><td>1</td><td>2</td></tr><tr><th>29</th><td>2</td><td>1</td><td>1</td><td>1</td><td>2</td></tr><tr><th>30</th><td>1</td><td>1</td><td>3</td><td>1</td><td>2</td></tr><tr><th>&vellip;</th><td>&vellip;</td><td>&vellip;</td><td>&vellip;</td><td>&vellip;</td><td>&vellip;</td></tr></tbody></table>"
      ],
      "text/latex": [
       "\\begin{tabular}{r|ccccc}\n",
       "\t& V1 & V2 & V3 & V4 & V5\\\\\n",
       "\t\\hline\n",
       "\t& Int32 & Int32 & Int32 & Int32 & Int32\\\\\n",
       "\t\\hline\n",
       "\t1 & 5 & 1 & 1 & 1 & 2 \\\\\n",
       "\t2 & 5 & 4 & 4 & 5 & 7 \\\\\n",
       "\t3 & 3 & 1 & 1 & 1 & 2 \\\\\n",
       "\t4 & 6 & 8 & 8 & 1 & 3 \\\\\n",
       "\t5 & 4 & 1 & 1 & 3 & 2 \\\\\n",
       "\t6 & 8 & 10 & 10 & 8 & 7 \\\\\n",
       "\t7 & 1 & 1 & 1 & 1 & 2 \\\\\n",
       "\t8 & 2 & 1 & 2 & 1 & 2 \\\\\n",
       "\t9 & 2 & 1 & 1 & 1 & 2 \\\\\n",
       "\t10 & 4 & 2 & 1 & 1 & 2 \\\\\n",
       "\t11 & 1 & 1 & 1 & 1 & 1 \\\\\n",
       "\t12 & 2 & 1 & 1 & 1 & 2 \\\\\n",
       "\t13 & 5 & 3 & 3 & 3 & 2 \\\\\n",
       "\t14 & 1 & 1 & 1 & 1 & 2 \\\\\n",
       "\t15 & 8 & 7 & 5 & 10 & 7 \\\\\n",
       "\t16 & 7 & 4 & 6 & 4 & 6 \\\\\n",
       "\t17 & 4 & 1 & 1 & 1 & 2 \\\\\n",
       "\t18 & 4 & 1 & 1 & 1 & 2 \\\\\n",
       "\t19 & 10 & 7 & 7 & 6 & 4 \\\\\n",
       "\t20 & 6 & 1 & 1 & 1 & 2 \\\\\n",
       "\t21 & 7 & 3 & 2 & 10 & 5 \\\\\n",
       "\t22 & 10 & 5 & 5 & 3 & 6 \\\\\n",
       "\t23 & 3 & 1 & 1 & 1 & 2 \\\\\n",
       "\t24 & 8 & 4 & 5 & 1 & 2 \\\\\n",
       "\t25 & 1 & 1 & 1 & 1 & 2 \\\\\n",
       "\t26 & 5 & 2 & 3 & 4 & 2 \\\\\n",
       "\t27 & 3 & 2 & 1 & 1 & 1 \\\\\n",
       "\t28 & 5 & 1 & 1 & 1 & 2 \\\\\n",
       "\t29 & 2 & 1 & 1 & 1 & 2 \\\\\n",
       "\t30 & 1 & 1 & 3 & 1 & 2 \\\\\n",
       "\t$\\dots$ & $\\dots$ & $\\dots$ & $\\dots$ & $\\dots$ & $\\dots$ \\\\\n",
       "\\end{tabular}\n"
      ],
      "text/plain": [
       "699×5 DataFrame\n",
       "│ Row │ V1    │ V2    │ V3    │ V4    │ V5    │\n",
       "│     │ \u001b[90mInt32\u001b[39m │ \u001b[90mInt32\u001b[39m │ \u001b[90mInt32\u001b[39m │ \u001b[90mInt32\u001b[39m │ \u001b[90mInt32\u001b[39m │\n",
       "├─────┼───────┼───────┼───────┼───────┼───────┤\n",
       "│ 1   │ 5     │ 1     │ 1     │ 1     │ 2     │\n",
       "│ 2   │ 5     │ 4     │ 4     │ 5     │ 7     │\n",
       "│ 3   │ 3     │ 1     │ 1     │ 1     │ 2     │\n",
       "│ 4   │ 6     │ 8     │ 8     │ 1     │ 3     │\n",
       "│ 5   │ 4     │ 1     │ 1     │ 3     │ 2     │\n",
       "│ 6   │ 8     │ 10    │ 10    │ 8     │ 7     │\n",
       "│ 7   │ 1     │ 1     │ 1     │ 1     │ 2     │\n",
       "│ 8   │ 2     │ 1     │ 2     │ 1     │ 2     │\n",
       "│ 9   │ 2     │ 1     │ 1     │ 1     │ 2     │\n",
       "│ 10  │ 4     │ 2     │ 1     │ 1     │ 2     │\n",
       "⋮\n",
       "│ 689 │ 4     │ 1     │ 1     │ 1     │ 2     │\n",
       "│ 690 │ 1     │ 1     │ 1     │ 1     │ 2     │\n",
       "│ 691 │ 1     │ 1     │ 1     │ 3     │ 2     │\n",
       "│ 692 │ 5     │ 10    │ 10    │ 5     │ 4     │\n",
       "│ 693 │ 3     │ 1     │ 1     │ 1     │ 2     │\n",
       "│ 694 │ 3     │ 1     │ 1     │ 1     │ 2     │\n",
       "│ 695 │ 3     │ 1     │ 1     │ 1     │ 3     │\n",
       "│ 696 │ 2     │ 1     │ 1     │ 1     │ 2     │\n",
       "│ 697 │ 5     │ 10    │ 10    │ 3     │ 7     │\n",
       "│ 698 │ 4     │ 8     │ 6     │ 4     │ 3     │\n",
       "│ 699 │ 4     │ 8     │ 8     │ 5     │ 4     │"
      ]
     },
     "execution_count": 53,
     "metadata": {},
     "output_type": "execute_result"
    }
   ],
   "source": [
    "df=biopsy[!, 2:6]\n",
    "df=dropmissing(df)"
   ]
  },
  {
   "cell_type": "code",
   "execution_count": 54,
   "metadata": {},
   "outputs": [
    {
     "data": {
      "text/plain": [
       "699×5 Array{Int32,2}:\n",
       " 5   1   1  1  2\n",
       " 5   4   4  5  7\n",
       " 3   1   1  1  2\n",
       " 6   8   8  1  3\n",
       " 4   1   1  3  2\n",
       " 8  10  10  8  7\n",
       " 1   1   1  1  2\n",
       " 2   1   2  1  2\n",
       " 2   1   1  1  2\n",
       " 4   2   1  1  2\n",
       " 1   1   1  1  1\n",
       " 2   1   1  1  2\n",
       " 5   3   3  3  2\n",
       " ⋮              \n",
       " 3   1   1  1  2\n",
       " 4   1   1  1  2\n",
       " 1   1   1  1  2\n",
       " 1   1   1  3  2\n",
       " 5  10  10  5  4\n",
       " 3   1   1  1  2\n",
       " 3   1   1  1  2\n",
       " 3   1   1  1  3\n",
       " 2   1   1  1  2\n",
       " 5  10  10  3  7\n",
       " 4   8   6  4  3\n",
       " 4   8   8  5  4"
      ]
     },
     "execution_count": 54,
     "metadata": {},
     "output_type": "execute_result"
    }
   ],
   "source": [
    "labels=Vector{String}(biopsy[!, :Class])\n",
    "features=Matrix(df)"
   ]
  },
  {
   "cell_type": "code",
   "execution_count": 55,
   "metadata": {},
   "outputs": [
    {
     "data": {
      "text/plain": [
       "RandomForestClassifier\n",
       "n_trees:             50\n",
       "n_subfeatures:       -1\n",
       "partial_sampling:    0.7\n",
       "max_depth:           2\n",
       "min_samples_leaf:    1\n",
       "min_samples_split:   2\n",
       "min_purity_increase: 0.0\n",
       "classes:             nothing\n",
       "ensemble:            nothing"
      ]
     },
     "execution_count": 55,
     "metadata": {},
     "output_type": "execute_result"
    }
   ],
   "source": [
    "model = DecisionTree.RandomForestClassifier(n_trees=50, max_depth=2)"
   ]
  },
  {
   "cell_type": "code",
   "execution_count": 56,
   "metadata": {},
   "outputs": [
    {
     "data": {
      "text/plain": [
       "RandomForestClassifier\n",
       "n_trees:             50\n",
       "n_subfeatures:       -1\n",
       "partial_sampling:    0.7\n",
       "max_depth:           2\n",
       "min_samples_leaf:    1\n",
       "min_samples_split:   2\n",
       "min_purity_increase: 0.0\n",
       "classes:             [\"benign\", \"malignant\"]\n",
       "ensemble:            Ensemble of Decision Trees\n",
       "Trees:      50\n",
       "Avg Leaves: 4.0\n",
       "Avg Depth:  2.0"
      ]
     },
     "execution_count": 56,
     "metadata": {},
     "output_type": "execute_result"
    }
   ],
   "source": [
    "DecisionTree.fit!(model, features, labels)"
   ]
  },
  {
   "cell_type": "code",
   "execution_count": 58,
   "metadata": {},
   "outputs": [],
   "source": [
    "using ScikitLearn.CrossValidation: cross_val_score"
   ]
  },
  {
   "cell_type": "code",
   "execution_count": 59,
   "metadata": {},
   "outputs": [
    {
     "data": {
      "text/plain": [
       "5-element Array{Float64,1}:\n",
       " 0.9148936170212766\n",
       " 0.9357142857142857\n",
       " 0.9214285714285714\n",
       " 0.9640287769784173\n",
       " 0.9568345323741008"
      ]
     },
     "execution_count": 59,
     "metadata": {},
     "output_type": "execute_result"
    }
   ],
   "source": [
    "accuracy = cross_val_score(model, features, labels, cv=5)"
   ]
  },
  {
   "cell_type": "code",
   "execution_count": 61,
   "metadata": {},
   "outputs": [
    {
     "data": {
      "text/plain": [
       "9-element Array{Int32,1}:\n",
       "  5\n",
       "  4\n",
       "  4\n",
       "  5\n",
       "  7\n",
       " 10\n",
       "  3\n",
       "  2\n",
       "  1"
      ]
     },
     "execution_count": 61,
     "metadata": {},
     "output_type": "execute_result"
    }
   ],
   "source": [
    "new_biopsy = [5,4,4,5,7,10,3,2,1]\n",
    "new_biopsy=convert(Array{Int32}, new_biopsy)"
   ]
  },
  {
   "cell_type": "code",
   "execution_count": 64,
   "metadata": {},
   "outputs": [
    {
     "data": {
      "text/plain": [
       "\"malignant\""
      ]
     },
     "execution_count": 64,
     "metadata": {},
     "output_type": "execute_result"
    }
   ],
   "source": [
    "DecisionTree.predict(model, new_biopsy)"
   ]
  },
  {
   "cell_type": "code",
   "execution_count": 63,
   "metadata": {},
   "outputs": [
    {
     "data": {
      "text/plain": [
       "2-element Array{Float64,1}:\n",
       " 0.04\n",
       " 0.96"
      ]
     },
     "execution_count": 63,
     "metadata": {},
     "output_type": "execute_result"
    }
   ],
   "source": [
    "DecisionTree.predict_proba(model, new_biopsy)"
   ]
  },
  {
   "cell_type": "code",
   "execution_count": null,
   "metadata": {},
   "outputs": [],
   "source": []
  }
 ],
 "metadata": {
  "kernelspec": {
   "display_name": "Julia 1.3.1",
   "language": "julia",
   "name": "julia-1.3"
  },
  "language_info": {
   "file_extension": ".jl",
   "mimetype": "application/julia",
   "name": "julia",
   "version": "1.3.1"
  }
 },
 "nbformat": 4,
 "nbformat_minor": 4
}
