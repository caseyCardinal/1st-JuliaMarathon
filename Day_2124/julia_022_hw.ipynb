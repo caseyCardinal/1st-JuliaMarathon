{
 "cells": [
  {
   "cell_type": "markdown",
   "metadata": {},
   "source": [
    "# Julia 基礎圖表繪製：Gadfly 二維資料圖表\n",
    "\n",
    "## 作業 022"
   ]
  },
  {
   "cell_type": "markdown",
   "metadata": {},
   "source": [
    "1. 散佈圖是二維資料的圖表表示，思考它適合用於展現資料的什麼特性？"
   ]
  },
  {
   "cell_type": "markdown",
   "metadata": {},
   "source": [
    "2. 比較密度分佈圖與熱圖分別適合用於什麼樣的資料。[hint: 從資料的種類切入思考]"
   ]
  },
  {
   "cell_type": "code",
   "execution_count": null,
   "metadata": {},
   "outputs": [],
   "source": [
    "散佈圖:\n",
    "表示兩個變數之間關係的圖。把互相有關連的對應數據，在方格紙上以縱軸表示結果，以橫軸表示原因。\n",
    "用點表示出分佈形態，根據分佈的形態來判斷對應數據之間的相互關係。\n",
    "檢定兩變數間的相關性。\n",
    "\n",
    "密度分佈圖:\n",
    "透過用點的密度，來反映數值的大小。適用於密度、頻率等數據, 如人口, 動植物分布情況。\n",
    "\n",
    "熱圖:\n",
    "一個以顏色變化來顯示數據的矩陣。通過眾多資料點資訊,匯聚成直觀視覺化顏色效果。\n",
    "一些原本不易理解或表達的數據，比如密度、頻率、溫度等，改用區域和顏色這種更容易被人理解的方式來呈現。"
   ]
  }
 ],
 "metadata": {
  "kernelspec": {
   "display_name": "Julia 1.3.1",
   "language": "julia",
   "name": "julia-1.3"
  },
  "language_info": {
   "file_extension": ".jl",
   "mimetype": "application/julia",
   "name": "julia",
   "version": "1.3.1"
  }
 },
 "nbformat": 4,
 "nbformat_minor": 4
}
