{
 "cells": [
  {
   "cell_type": "markdown",
   "metadata": {},
   "source": [
    "# Julia 基礎圖表繪製：Gadfly 一維資料圖表\n",
    "\n",
    "## 作業 021"
   ]
  },
  {
   "cell_type": "markdown",
   "metadata": {},
   "source": [
    "1. 比較看看盒狀圖與 violin plot 在同樣的資料上分別展現資料的什麼特性。"
   ]
  },
  {
   "cell_type": "markdown",
   "metadata": {},
   "source": [
    "2. 同樣的資料可以以條狀圖或是線圖繪製，思考兩者在表現資料上的特點。"
   ]
  },
  {
   "cell_type": "code",
   "execution_count": null,
   "metadata": {},
   "outputs": [],
   "source": [
    "Box-plot \n",
    "顯示一組資料分散情況資料的統計圖。\n",
    "主要包含六個資料節點，將一組資料從大到小排列，分別計算出他的上邊緣，上四分位數Q3，中位數，下四分位數Q1，下邊緣，還有一個異常值。\n",
    "\n",
    "Violin Plot\n",
    "顯示資料分佈及其概率密度。結合了箱形圖和密度圖的特徵，主要用來顯示資料的分佈形狀。"
   ]
  },
  {
   "cell_type": "code",
   "execution_count": null,
   "metadata": {},
   "outputs": [],
   "source": [
    "條狀圖是方便表示數量大小的比較，而線圖即較容易考察數量的變化情形。\n",
    "條狀圖: 以長度的長短來來表示數量的概念對人們來說相當直覺。\n",
    "線圖的優勢在由連續的線段表達資料量的變化，能一眼看出長期的變化趨勢。"
   ]
  }
 ],
 "metadata": {
  "kernelspec": {
   "display_name": "Julia 1.3.1",
   "language": "julia",
   "name": "julia-1.3"
  },
  "language_info": {
   "file_extension": ".jl",
   "mimetype": "application/julia",
   "name": "julia",
   "version": "1.3.1"
  }
 },
 "nbformat": 4,
 "nbformat_minor": 4
}
