{
 "cells": [
  {
   "cell_type": "markdown",
   "metadata": {},
   "source": [
    "# 陣列 (Array)\n",
    "\n",
    "## Day 009 作業：比較不同的內建排序演算法\n",
    "\n",
    "除了範例程式示範的 QuickSort 之外，Julia 也內建支援幾種不同的排序演算法：\n",
    "\n",
    "- InsertionSort\n",
    "- PartialQuickSort(k)\n",
    "- MergeSort\n",
    "\n",
    "1. 請閱讀官方文件及範例 [Sorting-Algorithms](https://docs.julialang.org/en/v1/base/sort/#Sorting-Algorithms-1)\n",
    "\n",
    "2. 撰寫程式隨機產生 100000 個 200 到 500 之間的數字來建立陣列，執行不同排序方法，來比較不同排序方法的速度。\n",
    "\n",
    "**[提示]** 排序執行所需時間可以用巨集 `@time` 或 `@elapsed` 來取得。"
   ]
  },
  {
   "cell_type": "code",
   "execution_count": 2,
   "metadata": {},
   "outputs": [
    {
     "data": {
      "text/plain": [
       "100000-element Array{Int64,1}:\n",
       " 368\n",
       " 213\n",
       " 414\n",
       " 405\n",
       " 427\n",
       " 323\n",
       " 310\n",
       " 285\n",
       " 450\n",
       " 428\n",
       " 320\n",
       " 222\n",
       " 470\n",
       "   ⋮\n",
       " 495\n",
       " 415\n",
       " 230\n",
       " 346\n",
       " 498\n",
       " 294\n",
       " 385\n",
       " 314\n",
       " 435\n",
       " 469\n",
       " 339\n",
       " 454"
      ]
     },
     "execution_count": 2,
     "metadata": {},
     "output_type": "execute_result"
    }
   ],
   "source": [
    "# 產生 100000 個 200 到 500 之間的數字的陣列\n",
    "x = rand(200:500, 100000)"
   ]
  },
  {
   "cell_type": "markdown",
   "metadata": {},
   "source": [
    "## Insertion Sort"
   ]
  },
  {
   "cell_type": "code",
   "execution_count": 3,
   "metadata": {},
   "outputs": [
    {
     "name": "stdout",
     "output_type": "stream",
     "text": [
      "  0.028687 seconds (95.92 k allocations: 5.755 MiB)\n"
     ]
    },
    {
     "data": {
      "text/plain": [
       "100000-element Array{Int64,1}:\n",
       " 200\n",
       " 200\n",
       " 200\n",
       " 200\n",
       " 200\n",
       " 200\n",
       " 200\n",
       " 200\n",
       " 200\n",
       " 200\n",
       " 200\n",
       " 200\n",
       " 200\n",
       "   ⋮\n",
       " 500\n",
       " 500\n",
       " 500\n",
       " 500\n",
       " 500\n",
       " 500\n",
       " 500\n",
       " 500\n",
       " 500\n",
       " 500\n",
       " 500\n",
       " 500"
      ]
     },
     "execution_count": 3,
     "metadata": {},
     "output_type": "execute_result"
    }
   ],
   "source": [
    "@time s2 = sort(x; alg=InsertionSort)"
   ]
  },
  {
   "cell_type": "markdown",
   "metadata": {},
   "source": [
    "## Merge Sort"
   ]
  },
  {
   "cell_type": "code",
   "execution_count": 5,
   "metadata": {},
   "outputs": [
    {
     "name": "stdout",
     "output_type": "stream",
     "text": [
      "  0.082168 seconds (150.35 k allocations: 8.514 MiB)\n"
     ]
    },
    {
     "data": {
      "text/plain": [
       "100000-element Array{Int64,1}:\n",
       " 200\n",
       " 200\n",
       " 200\n",
       " 200\n",
       " 200\n",
       " 200\n",
       " 200\n",
       " 200\n",
       " 200\n",
       " 200\n",
       " 200\n",
       " 200\n",
       " 200\n",
       "   ⋮\n",
       " 500\n",
       " 500\n",
       " 500\n",
       " 500\n",
       " 500\n",
       " 500\n",
       " 500\n",
       " 500\n",
       " 500\n",
       " 500\n",
       " 500\n",
       " 500"
      ]
     },
     "execution_count": 5,
     "metadata": {},
     "output_type": "execute_result"
    }
   ],
   "source": [
    "@time s3 = sort(x; alg=MergeSort)"
   ]
  },
  {
   "cell_type": "markdown",
   "metadata": {},
   "source": [
    "## Partial Quick Sort"
   ]
  },
  {
   "cell_type": "code",
   "execution_count": 6,
   "metadata": {},
   "outputs": [
    {
     "name": "stdout",
     "output_type": "stream",
     "text": [
      "  0.068510 seconds (137.06 k allocations: 9.038 MiB)\n"
     ]
    },
    {
     "data": {
      "text/plain": [
       "100000-element Array{Int64,1}:\n",
       " 200\n",
       " 200\n",
       " 200\n",
       " 200\n",
       " 200\n",
       " 200\n",
       " 200\n",
       " 200\n",
       " 200\n",
       " 200\n",
       " 200\n",
       " 200\n",
       " 200\n",
       "   ⋮\n",
       " 500\n",
       " 500\n",
       " 500\n",
       " 500\n",
       " 500\n",
       " 500\n",
       " 500\n",
       " 500\n",
       " 500\n",
       " 500\n",
       " 500\n",
       " 500"
      ]
     },
     "execution_count": 6,
     "metadata": {},
     "output_type": "execute_result"
    }
   ],
   "source": [
    "k=100\n",
    "x = rand(200:500, 100000)\n",
    "@time s4 = sort(x; alg=PartialQuickSort(k))"
   ]
  },
  {
   "cell_type": "markdown",
   "metadata": {},
   "source": [
    "## QuickSort"
   ]
  },
  {
   "cell_type": "code",
   "execution_count": 7,
   "metadata": {},
   "outputs": [
    {
     "data": {
      "text/plain": [
       "0.0344895"
      ]
     },
     "execution_count": 7,
     "metadata": {},
     "output_type": "execute_result"
    }
   ],
   "source": [
    "@elapsed sort(x; alg=QuickSort)"
   ]
  },
  {
   "cell_type": "markdown",
   "metadata": {},
   "source": [
    "## 請問哪一種排序方法的效能最好？"
   ]
  },
  {
   "cell_type": "code",
   "execution_count": null,
   "metadata": {},
   "outputs": [],
   "source": [
    "QuickSort"
   ]
  }
 ],
 "metadata": {
  "kernelspec": {
   "display_name": "Julia 1.3.1",
   "language": "julia",
   "name": "julia-1.3"
  },
  "language_info": {
   "file_extension": ".jl",
   "mimetype": "application/julia",
   "name": "julia",
   "version": "1.3.1"
  }
 },
 "nbformat": 4,
 "nbformat_minor": 4
}
